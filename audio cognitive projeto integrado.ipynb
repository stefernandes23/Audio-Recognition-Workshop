{
 "cells": [
  {
   "cell_type": "markdown",
   "id": "0c253a8f",
   "metadata": {},
   "source": [
    "# Workshop Audio Cognitive"
   ]
  },
  {
   "cell_type": "markdown",
   "id": "0e4a7990",
   "metadata": {},
   "source": [
    "# 🤖 Atendimento Digital por Voz – QuantumFinance\n",
    "\n",
    "Este projeto simula um atendimento digital da empresa fictícia **Quantum Finance**, permitindo que o cliente interaja **por voz** em vez de apenas por texto.\n",
    "\n",
    "---\n",
    "\n",
    "## 🔧 O que o sistema faz?\n",
    "\n",
    "1. Dá boas-vindas ao cliente com uma mensagem em áudio.\n",
    "2. Apresenta as seguintes opções:\n",
    "   - (1) Consultar saldo da conta\n",
    "   - (2) Simulação de compra internacional\n",
    "   - (3) Falar com um atendente\n",
    "   - (4) Sair do atendimento\n",
    "3. O cliente fala sua escolha, e o sistema **reconhece a fala**.\n",
    "4. A resposta correspondente é **reproduzida em áudio**.\n",
    "5. Se não entender a opção, o sistema avisa e repete as opções.\n",
    "6. O atendimento termina ao dizer \"sair do atendimento\".\n",
    "\n",
    "---\n",
    "\n",
    "## 📦 Tecnologias usadas\n",
    "\n",
    "- `pyttsx3`: Geração de áudio com TTS (Text-to-Speech)\n",
    "- `SpeechRecognition`: Reconhecimento de voz com SST\n",
    "\n",
    "---\n",
    "\n"
   ]
  },
  {
   "cell_type": "code",
   "execution_count": 2,
   "id": "6ed3a49d",
   "metadata": {},
   "outputs": [
    {
     "name": "stdout",
     "output_type": "stream",
     "text": [
      "pygame 2.6.1 (SDL 2.28.4, Python 3.11.9)\n",
      "Hello from the pygame community. https://www.pygame.org/contribute.html\n"
     ]
    }
   ],
   "source": [
    "# Primeiro nós importamos todas as ferramentas que vamos usar\n",
    "import pyttsx3  # faz o computador falar - TTS (Text-to-Speech: transforma texto em voz)\n",
    "import speech_recognition as sr  # faz o computador ouvir e entender nossa voz (STT - Speech-to-Text: converte voz em texto)\n",
    "import pygame  # ajuda a tocar sons\n",
    "import time  # para fazer pausas e esperar\n",
    "import os  # para trabalhar com pastas e arquivos\n",
    "from difflib import SequenceMatcher  # para comparar palavras parecidas"
   ]
  },
  {
   "cell_type": "code",
   "execution_count": 3,
   "id": "1c2e0740",
   "metadata": {},
   "outputs": [],
   "source": [
    "# 🎛️ Configurações\n",
    "pygame.mixer.init()  # Prepara o módulo de som\n",
    "engine = pyttsx3.init()  # Prepara o motor de fala\n",
    "engine.setProperty('rate', 160)  # Ajusta a velocidade da voz (160 palavras por minuto)"
   ]
  },
  {
   "cell_type": "code",
   "execution_count": 4,
   "id": "6bcd95db",
   "metadata": {},
   "outputs": [],
   "source": [
    "# 📏 Quão parecidas as palavras precisam ser para o computador entender\n",
    "SIMILARITY_THRESHOLD = 0.6  # 60% de similaridade já é suficiente\n",
    "\n",
    "# 📂 Cria uma pasta chamada \"audios\" SE ela não existir\n",
    "os.makedirs(\"audios\", exist_ok=True)\n",
    "\n",
    "# 💬 Todas as frases que o sistema vai falar\n",
    "frases = {\n",
    "    \"saudacao\": \"Bem-vindo ao atendimento da Quantum Finance. Por favor fale com clareza.\",   \n",
    "    \"opcoes\": \"Opções disponíveis: 1-Saldo, 2-Simulação, 3-Atendente, 4-Sair.\",\n",
    "    \"opcao1\": \"Você escolheu consultar saldo.\",\n",
    "    \"opcao2\": \"Você escolheu simulação internacional.\",\n",
    "    \"opcao3\": \"Você escolheu falar com atendente.\",\n",
    "    \"opcao4\": \"Encerrando atendimento. Obrigado!\",\n",
    "    \"erro\": \"Não entendi. Por favor repita.\"\n",
    "}\n",
    "\n",
    "# 🔊 Função que cria arquivos de áudio para cada frase\n",
    "def gerar_audios():\n",
    "    # Verifica se os áudios já existem\n",
    "    for nome, texto in frases.items():  # Para cada frase...\n",
    "        caminho = os.path.join(\"audios\", f\"{nome}.wav\")  # Cria o caminho do arquivo\n",
    "        if not os.path.exists(caminho):  # Se o áudio ainda não existe...\n",
    "            engine.save_to_file(texto, caminho)  # Grava a frase em um arquivo\n",
    "    engine.runAndWait()  # Espera terminar de gravar todos"
   ]
  },
  {
   "cell_type": "code",
   "execution_count": 5,
   "id": "88f81c24",
   "metadata": {},
   "outputs": [],
   "source": [
    "# ▶️ Função que toca um áudio\n",
    "def play_audio(nome):\n",
    "    try:\n",
    "        caminho = os.path.join(\"audios\", f\"{nome}.wav\")  # Encontra o arquivo\n",
    "        if os.path.exists(caminho):  # Se o arquivo existe...\n",
    "            pygame.mixer.music.load(caminho)  # Carrega o áudio\n",
    "            pygame.mixer.music.play()  # Toca o áudio\n",
    "            while pygame.mixer.music.get_busy():  # Enquanto estiver tocando...\n",
    "                time.sleep(0.1)  # Espera um pouquinho (0.1 segundo)\n",
    "    except Exception as e:  # Se der erro...\n",
    "        print(f\"Erro de áudio: {e}\")  # Mostra o que aconteceu"
   ]
  },
  {
   "cell_type": "code",
   "execution_count": 6,
   "id": "a026777c",
   "metadata": {},
   "outputs": [],
   "source": [
    "import speech_recognition as sr\n",
    "\n",
    "# 👂 Função que escuta o que a pessoa fala\n",
    "def ouvir_audio():\n",
    "    r = sr.Recognizer()  # Cria o objeto que reconhece voz\n",
    "    \n",
    "    with sr.Microphone() as source:  # Abre o microfone\n",
    "        print(\"\\n🔊 Pronto para ouvir...\")\n",
    "        \n",
    "        # Ajusta para ruído ambiente (1 segundo de análise)\n",
    "        r.adjust_for_ambient_noise(source, duration=1)\n",
    "        \n",
    "        # Configurações de pausa (0.8 segundos de silêncio = fim de fala)\n",
    "        r.pause_threshold = 0.8\n",
    "        \n",
    "        try:\n",
    "            # Toca o áudio de instrução\n",
    "            play_audio(\"instrucao\")  # Toca a instrução para o usuário \n",
    "            \n",
    "            # Escuta o áudio com timeout (7s total, máximo 4s de fala)\n",
    "            audio = r.listen(source, timeout=7, phrase_time_limit=4)\n",
    "            \n",
    "            try:\n",
    "                # reconhecimento dentro de outro try para capturar erros específicos\n",
    "                texto = r.recognize_google(audio_data=audio, language=\"pt-BR\").lower()\n",
    "                print(f\"👉 Você disse: {texto}\")\n",
    "                return texto\n",
    "                \n",
    "            except sr.UnknownValueError:\n",
    "                print(\"🔇 Não consegui entender o áudio\")\n",
    "                return None\n",
    "            except sr.RequestError as e:\n",
    "                print(f\"🌐 Erro na API: {e}\")\n",
    "                return None\n",
    "                \n",
    "        except sr.WaitTimeoutError:\n",
    "            print(\"⏳ Nenhuma fala detectada (timeout)\")\n",
    "            return None\n",
    "        except Exception as e:\n",
    "            print(f\"❌ Erro inesperado: {e}\")\n",
    "            return None"
   ]
  },
  {
   "cell_type": "code",
   "execution_count": 7,
   "id": "21b70c18",
   "metadata": {},
   "outputs": [],
   "source": [
    "# 🔍 Função que descobre qual opção a pessoa escolheu\n",
    "def identificar_opcao(fala):\n",
    "    # Todas as palavras que representam cada opção\n",
    "    opcoes = {\n",
    "        1: [\"saldo\", \"conta\", \"1\", \"um\", \"extrato\", \"consultar saldo\", \"consultar extrato\", \"ver saldo\", \"ver extrato\"],\n",
    "        2: [\"simulação\", \"simular\", \"2\", \"dois\", \"internacional\", \"simular compra internacional\", \"simular compra\"],\n",
    "        3: [\"atendente\", \"atendimento\", \"3\", \"três\", \"humano\", \"falar com atendente\", \"falar com humano\", \"falar com atendente humano\", \"falar com\", \"falar\"],\n",
    "        4: [\"sair\", \"encerrar\", \"4\", \"quatro\", \"fim\", \"desligar\", \"fechar\", \"terminar\", \"sair do atendimento\", \"sair do sistema\", \"encerrar atendimento\", \"encerrar sistema\"],\n",
    "    }\n",
    "    \n",
    "    if not fala:  # Se não ouviu nada...\n",
    "        return 0\n",
    "    \n",
    "    # Compara o que a pessoa falou com todas as opções\n",
    "    for num, palavras in opcoes.items():  # Para cada opção...\n",
    "        for palavra in palavras:  # Para cada palavra-chave...\n",
    "            # Se a palavra está no que foi dito OU é parecida o suficiente\n",
    "            if palavra in fala or SequenceMatcher(None, fala, palavra).ratio() >= 0.6:\n",
    "                return num  # Retorna o número da opção\n",
    "    return 0  # Se não encontrou nada"
   ]
  },
  {
   "cell_type": "code",
   "execution_count": 8,
   "id": "b9c01d28",
   "metadata": {},
   "outputs": [
    {
     "name": "stdout",
     "output_type": "stream",
     "text": [
      "ATENDIMENTO QUANTUM FINANCE\n",
      "\n",
      "🔊 Pronto para ouvir...\n",
      "👉 Você disse: consultar saldo\n",
      "\n",
      "✅ Reconhecido: Opção 1\n",
      "\n",
      "🔊 Pronto para ouvir...\n",
      "👉 Você disse: simular compra internacional\n",
      "\n",
      "✅ Reconhecido: Opção 2\n",
      "\n",
      "🔊 Pronto para ouvir...\n",
      "👉 Você disse: tomar banho\n",
      "\n",
      "🔊 Pronto para ouvir...\n",
      "👉 Você disse: falar com atende\n",
      "\n",
      "✅ Reconhecido: Opção 3\n",
      "\n",
      "🔊 Pronto para ouvir...\n",
      "👉 Você disse: encerrar\n",
      "\n",
      "✅ Reconhecido: Opção 4\n",
      "Atendimento finalizado!\n"
     ]
    }
   ],
   "source": [
    "# 🏦 Função principal que realiza o atendimento\n",
    "def atendimento():\n",
    "    gerar_audios()  # Cria todos os áudios primeiro\n",
    "    play_audio(\"saudacao\")  # Dá as boas-vindas\n",
    "    \n",
    "    while True:  # Repete para sempre até sair\n",
    "        play_audio(\"opcoes\")  # Fala as opções\n",
    "        fala = ouvir_audio()  # Escuta a resposta\n",
    "        opcao = identificar_opcao(fala)  # Tenta entender o que foi dito\n",
    "        \n",
    "        if opcao == 0:  # Se não entendeu...\n",
    "            play_audio(\"erro\")  # Pede para repetir\n",
    "            continue  # Volta para o início\n",
    "            \n",
    "        print(f\"\\n✅ Reconhecido: Opção {opcao}\")  # Mostra a opção entendida\n",
    "        play_audio(f\"opcao{opcao}\")  # Fala a confirmação\n",
    "        \n",
    "        if opcao == 4:  # Se escolheu sair...\n",
    "            print(\"Atendimento finalizado!\")\n",
    "            break  # Termina o atendimento\n",
    "\n",
    "# ⚡ Executa o programa\n",
    "if __name__ == \"__main__\":\n",
    "    print(\"ATENDIMENTO QUANTUM FINANCE\")\n",
    "    atendimento()  # Inicia o atendimento"
   ]
  },
  {
   "cell_type": "code",
   "execution_count": null,
   "id": "d7f0b13d",
   "metadata": {},
   "outputs": [],
   "source": []
  }
 ],
 "metadata": {
  "kernelspec": {
   "display_name": "Python 3",
   "language": "python",
   "name": "python3"
  },
  "language_info": {
   "codemirror_mode": {
    "name": "ipython",
    "version": 3
   },
   "file_extension": ".py",
   "mimetype": "text/x-python",
   "name": "python",
   "nbconvert_exporter": "python",
   "pygments_lexer": "ipython3",
   "version": "3.11.9"
  }
 },
 "nbformat": 4,
 "nbformat_minor": 5
}
